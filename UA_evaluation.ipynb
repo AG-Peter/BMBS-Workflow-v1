{
 "cells": [
  {
   "cell_type": "code",
   "execution_count": null,
   "id": "931c1fd7",
   "metadata": {},
   "outputs": [],
   "source": [
    "import encodermap as em\n",
    "import numpy as np\n",
    "import matplotlib.pyplot as plt\n",
    "import matplotlib as mat\n",
    "import os\n",
    "import sys\n",
    "import pickle\n",
    "import random\n",
    "import matplotlib.cm as cm\n",
    "import pyemma.plots as mplt\n",
    "import scipy as sp\n",
    "sys.path.insert(1, \"/home/nicolas.schneider/nicolas/master_thesis/backward-v5\")\n",
    "from collections import defaultdict\n",
    "sys.path.insert(1, '/home/nicolas.schneider/soft/running_rabbit')\n",
    "\n",
    "from sim_class import *\n",
    "from utility_functions import *"
   ]
  },
  {
   "cell_type": "code",
   "execution_count": null,
   "id": "e54219b8",
   "metadata": {},
   "outputs": [],
   "source": [
    "##Parameters:\n",
    "template_name = \"ASP10_charged_1\" + \".pickle\" #template to load\n",
    "run_location = \"MLS\" #\"local\"# run on server or local\n",
    "aa_sim_count = 100   #desired number of aa sims\n",
    "rr_template = \"em_&_production_after_backmapping_prod\" #running rabbit template to use"
   ]
  },
  {
   "cell_type": "code",
   "execution_count": null,
   "id": "a9d2a4db",
   "metadata": {
    "scrolled": true
   },
   "outputs": [],
   "source": [
    "#connect to server\n",
    "if run_location == \"MLS\":\n",
    "    client = connect_MLS()\n",
    "    ssh = establish_sftp(client)\n",
    "elif run_location == \"local\":\n",
    "    client = 0\n",
    "    ssh = 0"
   ]
  },
  {
   "cell_type": "code",
   "execution_count": null,
   "id": "7d587c47",
   "metadata": {},
   "outputs": [],
   "source": [
    "#load the template\n",
    "Cluster_sim.load_state(os.path.join(\"/home/nicolas.schneider/nicolas/master_thesis/serialized_objects/\", template_name))"
   ]
  },
  {
   "cell_type": "code",
   "execution_count": null,
   "id": "ecea70c0",
   "metadata": {
    "scrolled": true
   },
   "outputs": [],
   "source": [
    "#verify loaded template\n",
    "vars(Cluster_sim)"
   ]
  },
  {
   "cell_type": "code",
   "execution_count": null,
   "id": "08b695dd",
   "metadata": {},
   "outputs": [],
   "source": [
    "#create run folder\n",
    "Cluster_sim.run_folder = make_run_folder(os.path.join(Cluster_sim.evaluation_data_spec_directory, \"runs\"))\n",
    "\n",
    "os.mkdir(Cluster_sim.run_folder + \"/evaluation_data/\")\n",
    "\n",
    "os.mkdir(Cluster_sim.run_folder + \"/figures/\")\n",
    "\n",
    "os.mkdir(Cluster_sim.run_folder + \"/traj_frames/\")"
   ]
  },
  {
   "cell_type": "code",
   "execution_count": null,
   "id": "3100d904",
   "metadata": {},
   "outputs": [],
   "source": [
    "#project cg data\n",
    "low_d_projection_cg = Cluster_sim.e_map.encode(Cluster_sim.high_d_data_concat)"
   ]
  },
  {
   "cell_type": "code",
   "execution_count": null,
   "id": "87b8da10",
   "metadata": {},
   "outputs": [],
   "source": [
    "#backmapping selection algorithm\n",
    "number_bins = 30 #will be squared --< 30*30 = 900 how many bins to use\n",
    "number_picks = aa_sim_count\n",
    "\n",
    "histo, xedges, yedges = np.histogram2d(low_d_projection_cg[:,0], \n",
    "                                       low_d_projection_cg[:,1], \n",
    "                                       bins=number_bins)\n",
    "\n",
    "Cluster_sim.pap_lst_new_starting_structures = []\n",
    "\n",
    "N = number_bins**2\n",
    "\n",
    "# Convert it into a 1D array\n",
    "histo_1d = histo.flatten()\n",
    "\n",
    "# Find the indices in the 1D array\n",
    "idx_1d = histo_1d.argsort()[-N:]\n",
    "\n",
    "# convert the idx_1d back into indices arrays for each dimension\n",
    "x_idx, y_idx = np.unravel_index(idx_1d[::-1], histo.shape)\n",
    "i = 0\n",
    "while len(Cluster_sim.pap_lst_new_starting_structures)<number_picks:\n",
    "    x_bin_number = x_idx[i]\n",
    "    y_bin_number = y_idx[i]\n",
    "    \n",
    "    population = histo[x_bin_number, y_bin_number]\n",
    "    i += 1\n",
    "    \n",
    "    x_range = [xedges[x_bin_number], xedges[x_bin_number+1]]\n",
    "    y_range = [yedges[y_bin_number], yedges[y_bin_number+1]]\n",
    "    \n",
    "    lst_candidates = []\n",
    "    for idx, data_point_projection in enumerate(low_d_projection_cg):\n",
    "        if data_point_projection[0]>x_range[0]:\n",
    "            if data_point_projection[0]<x_range[1]:\n",
    "                if data_point_projection[1]>y_range[0]:\n",
    "                    if data_point_projection[1]<y_range[1]:\n",
    "                        lst_candidates.append(idx)\n",
    "    picks_per_bin = max((1,min((round(population/histo.sum()*number_picks),number_picks-len(Cluster_sim.pap_lst_new_starting_structures)))))\n",
    "    chosen_candidates = np.random.choice(lst_candidates,\n",
    "                                         size = picks_per_bin,\n",
    "                                         replace = False)\n",
    "                                        \n",
    "    for chosen_candidate in chosen_candidates:\n",
    "        Cluster_sim.pap_lst_new_starting_structures.append(chosen_candidate)\n",
    "\n",
    "    progress(len(Cluster_sim.pap_lst_new_starting_structures), number_picks)"
   ]
  },
  {
   "cell_type": "code",
   "execution_count": null,
   "id": "ee743e83",
   "metadata": {},
   "outputs": [],
   "source": [
    "#random selection for comparison\n",
    "rand_lst_new_starting_structures = np.random.choice(len(low_d_projection_cg), size = 100, replace = False)"
   ]
  },
  {
   "cell_type": "code",
   "execution_count": null,
   "id": "d391c5a1",
   "metadata": {
    "scrolled": false
   },
   "outputs": [],
   "source": [
    "#plot the selection\n",
    "%matplotlib notebook\n",
    "fig, ax = plt.subplots()\n",
    "ax.scatter(low_d_projection_cg[:, 0], \n",
    "           low_d_projection_cg[:, 1], \n",
    "           c=\"grey\",\n",
    "           alpha=0.3,\n",
    "           s=1, \n",
    "           label=\"full map\")\n",
    "\n",
    "ax.scatter(low_d_projection_cg[Cluster_sim.pap_lst_new_starting_structures, 0], \n",
    "           low_d_projection_cg[Cluster_sim.pap_lst_new_starting_structures, 1], \n",
    "           c=\"red\",\n",
    "           alpha=1,\n",
    "           s=15, \n",
    "           label=\"selected points pap\")\n",
    "\n",
    "ax.scatter(low_d_projection_cg[rand_lst_new_starting_structures, 0], \n",
    "           low_d_projection_cg[rand_lst_new_starting_structures, 1], \n",
    "           c=\"green\",\n",
    "           alpha=1,\n",
    "           s=15, \n",
    "           label=\"selected points rand\")\n",
    "\n",
    "ax.set_xticks(xedges, minor=True)\n",
    "ax.set_yticks(yedges, minor=True)\n",
    "ax.xaxis.grid(True, which='minor', color =\"black\")\n",
    "ax.yaxis.grid(True, which='minor', color =\"black\")\n",
    "\n",
    "plt.legend()\n",
    "#plt.axis(\"off\")\n",
    "plt.tight_layout()\n",
    "plt.savefig(Cluster_sim.run_folder + \"/figures\" + \"/2d_indexed_plot.png\")"
   ]
  },
  {
   "cell_type": "code",
   "execution_count": null,
   "id": "2b9927f9",
   "metadata": {
    "scrolled": true
   },
   "outputs": [],
   "source": [
    "#write pdb of selected frames\n",
    "Cluster_sim.selected_sim_dict = defaultdict(list)\n",
    "for new_starting_structure in Cluster_sim.pap_lst_new_starting_structures:\n",
    "    Cluster_sim.selected_sim_dict[Cluster_sim.frame_dict_concat_cg[new_starting_structure][-1]].append(Cluster_sim.frame_dict_concat_cg[new_starting_structure][0:-1])\n",
    "for sim in Cluster_sim.selected_sim_dict:\n",
    "    sim.write_frames(Cluster_sim.selected_sim_dict[sim], Cluster_sim.run_folder)"
   ]
  },
  {
   "cell_type": "code",
   "execution_count": null,
   "id": "e06d9fba",
   "metadata": {
    "scrolled": true
   },
   "outputs": [],
   "source": [
    "#backmap selected frames\n",
    "Cluster_sim.backward_frames(Cluster_sim, Cluster_sim.run_folder, rr_template, sims = Cluster_sim.selected_sim_dict)"
   ]
  },
  {
   "cell_type": "code",
   "execution_count": null,
   "id": "4de86333",
   "metadata": {},
   "outputs": [],
   "source": [
    "#create aa sim list\n",
    "Cluster_sim.aa_sim_list = []\n",
    "for cg_sim in Cluster_sim.selected_sim_dict:\n",
    "    for aa_sim in cg_sim.child_sims:\n",
    "        Cluster_sim.aa_sim_list.append(aa_sim)\n",
    "        \n",
    "print(Cluster_sim.aa_sim_list)\n",
    "print(len(Cluster_sim.aa_sim_list))"
   ]
  },
  {
   "cell_type": "code",
   "execution_count": null,
   "id": "9ab851fe",
   "metadata": {
    "scrolled": true
   },
   "outputs": [],
   "source": [
    "#run the sims\n",
    "Cluster_sim.run_sim(Cluster_sim.aa_sim_list, location =  run_location, client=client, ssh=ssh)"
   ]
  },
  {
   "cell_type": "markdown",
   "id": "23acebc9",
   "metadata": {},
   "source": [
    "for sim in Cluster_sim.aa_sim_list:\n",
    "    print(command_return(client, \"sacct --format State -j \" + str(sim.jobname))[2])"
   ]
  },
  {
   "cell_type": "markdown",
   "id": "fc2749e3",
   "metadata": {},
   "source": [
    "cwd = '/home/nicolas.schneider/nicolas/master_thesis'\n",
    "!cd $cwd"
   ]
  },
  {
   "cell_type": "code",
   "execution_count": null,
   "id": "31fbcbde",
   "metadata": {},
   "outputs": [],
   "source": [
    "#calculate e2e distance of cg sims\n",
    "e2e_dist_ts_concat = []\n",
    "\n",
    "for sim in Cluster_sim.cg_sim_list:\n",
    "    e2e_dist_ts_concat += sim.gen_end2end_dist_ts()"
   ]
  },
  {
   "cell_type": "markdown",
   "id": "22f35112",
   "metadata": {
    "scrolled": true
   },
   "source": [
    "Cluster_sim.coarsegrain(Cluster_sim.aa_sim_list)"
   ]
  },
  {
   "cell_type": "code",
   "execution_count": null,
   "id": "7c27657a",
   "metadata": {
    "scrolled": true
   },
   "outputs": [],
   "source": [
    "#generate aa sim high d data\n",
    "for aa_sim in Cluster_sim.aa_sim_list:\n",
    "    aa_sim.gen_pair_dist_ts(\"name CA\", sample_frames = len(aa_sim.universe.trajectory))#(Cluster_sim.descriptor_selection, sample_frames = len(aa_sim.universe.trajectory))\n",
    "    \n",
    "high_d_data_concat_aa, frame_dict_concat_aa = Cluster_sim.concatenate_high_d_data(Cluster_sim.aa_sim_list)\n",
    "high_d_data_concat_norm_aa, high_d_data_concat_norm_cg = Cluster_sim.norm_high_d_data(high_d_data_concat_aa, high_d_data_concat_cg)"
   ]
  },
  {
   "cell_type": "code",
   "execution_count": null,
   "id": "120c7ce4",
   "metadata": {},
   "outputs": [],
   "source": [
    "#encodermap projection of high d data\n",
    "low_d_projection_aa = Cluster_sim.e_map.encode(high_d_data_concat_aa)\n",
    "low_d_projection_cg = Cluster_sim.e_map.encode(high_d_data_concat_cg)"
   ]
  },
  {
   "cell_type": "code",
   "execution_count": null,
   "id": "4c76ce72",
   "metadata": {},
   "outputs": [],
   "source": [
    "#plot the free energy of the aa sims\n",
    "projection_total = low_d_projection_cg\n",
    "fig = plt.figure(figsize=(4.5, 4.5), dpi=200, facecolor='white')\n",
    "ax = fig.add_subplot(1, 1, 1)\n",
    "ax.set_facecolor(\"white\")\n",
    "ax.axis('off')\n",
    "\n",
    "mplt.plot_free_energy(np.vstack(projection_total)[:,0], np.vstack(projection_total)[:,1], ax=ax,\n",
    "                      cmap='nipy_spectral', ncontours=100, nbins=200)\n",
    "#plt.savefig('savepath.png', bbox_inches=\"tight\")\n",
    "plt.show()"
   ]
  },
  {
   "cell_type": "code",
   "execution_count": null,
   "id": "84d29c44",
   "metadata": {},
   "outputs": [],
   "source": [
    "#save the results(Cluster_sim class and all its objects)\n",
    "obj_name = \"sim_obj_evaluated\" + \".pickle\"\n",
    "Cluster_sim.save_state(os.path.join(Cluster_sim.run_folder,obj_name))"
   ]
  }
 ],
 "metadata": {
  "kernelspec": {
   "display_name": "Python 3",
   "language": "python",
   "name": "python3"
  },
  "language_info": {
   "codemirror_mode": {
    "name": "ipython",
    "version": 3
   },
   "file_extension": ".py",
   "mimetype": "text/x-python",
   "name": "python",
   "nbconvert_exporter": "python",
   "pygments_lexer": "ipython3",
   "version": "3.7.12"
  }
 },
 "nbformat": 4,
 "nbformat_minor": 5
}
