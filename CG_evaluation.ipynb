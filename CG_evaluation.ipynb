{
 "cells": [
  {
   "cell_type": "code",
   "execution_count": null,
   "id": "011547ca",
   "metadata": {},
   "outputs": [],
   "source": [
    "#save and load simulations\n",
    "#martinize posres erhöhen?"
   ]
  },
  {
   "cell_type": "code",
   "execution_count": 1,
   "id": "931c1fd7",
   "metadata": {},
   "outputs": [],
   "source": [
    "%load_ext autoreload\n",
    "\n",
    "import encodermap as em\n",
    "import numpy as np\n",
    "import matplotlib.pyplot as plt\n",
    "import matplotlib as mat\n",
    "#import gromacs\n",
    "import glob2 as glob\n",
    "import os\n",
    "import sys\n",
    "import pickle\n",
    "import math\n",
    "import subprocess\n",
    "import seaborn\n",
    "import pandas as pd\n",
    "import random\n",
    "import matplotlib.cm as cm\n",
    "import pyemma.plots as mplt\n",
    "import scipy as sp\n",
    "sys.path.insert(1, \"/home/nicolas.schneider/nicolas/master_thesis/backward-v5\")\n",
    "from collections import defaultdict\n",
    "import pprint\n",
    "sys.path.insert(1, '/home/nicolas.schneider/soft/running_rabbit')\n",
    "\n",
    "\n",
    "from sim_class import *\n",
    "from utility_functions import *"
   ]
  },
  {
   "cell_type": "code",
   "execution_count": null,
   "id": "a32f35b2",
   "metadata": {},
   "outputs": [],
   "source": [
    "%autoreload"
   ]
  },
  {
   "cell_type": "code",
   "execution_count": 2,
   "id": "4b19c05d",
   "metadata": {
    "scrolled": false
   },
   "outputs": [
    {
     "name": "stdout",
     "output_type": "stream",
     "text": [
      "['nacl_iso_neutral', 'ASP_10', 'cluster_19']\n",
      "['nacl_iso_neutral', 'ASP_10', 'cluster_3']\n",
      "['nacl_iso_neutral', 'ASP_10', 'cluster_4']\n",
      "['nacl_iso_neutral', 'ASP_10', 'cluster_5']\n"
     ]
    }
   ],
   "source": [
    "cg_simulation_dir = \"/home/nicolas.schneider/nicolas/master_thesis/CG_sim\"  ##folder where the cg simulation data is stored\n",
    "Cluster_sim.sel_charges = [\"nacl_iso_charged/\"]  #subfolders in which simulations will be searched\n",
    "Cluster_sim.sel_peptides = [\"ASP_20/\"]           #subfolders in which simulations will be searched  \n",
    "Cluster_sim.descriptor_selection = \"name BB\"     #MDA selection string for coarsegrained data\n",
    "emap_template_folder = \"template1\"\n",
    "\n",
    "#searching for subfolders and creating new Cluster_sim objects from the folder names - folder names have to match!\n",
    "folders = []\n",
    "cwd = os.getcwd()\n",
    "os.chdir(cg_simulation_dir)\n",
    "for charge in Cluster_sim.sel_charges:\n",
    "    for peptide in Cluster_sim.sel_peptides:\n",
    "        folders += glob.glob(charge + peptide + \"*\")\n",
    "os.chdir(cwd)\n",
    "folders = [folder.split(\"/\") for folder in folders]\n",
    "\n",
    "Cluster_sim.cg_sim_list = []\n",
    "for folder in folders:\n",
    "    print(folder)\n",
    "    #try:\n",
    "    Cluster_sim.cg_sim_list.append(Cluster_sim(\"CG_sim\", *folder))\n",
    "    #except:\n",
    "    #    print(\"exception :\", *folder)\n",
    "    \n",
    "Cluster_sim.evaluation_data_spec_directory = Cluster_sim.evaluation_data_base_directory\n",
    "    \n",
    "    #creating evaluation data directory based on the different systems it contains\n",
    "attrs = [\"sim_type_folder\", \"charge_folder\", \"peptide_folder\"]\n",
    "for attr in attrs:\n",
    "    sim_attr = [getattr(o, attr) for o in Cluster_sim.cg_sim_list]\n",
    "    set_attr = set(sim_attr)\n",
    "    for string in set_attr:\n",
    "        Cluster_sim.evaluation_data_spec_directory += string + \"+\"\n",
    "    Cluster_sim.evaluation_data_spec_directory = Cluster_sim.evaluation_data_spec_directory[:-1] + \"/\"    \n",
    "\n",
    "    #encodermap data path\n",
    "Cluster_sim.e_map_path = os.path.join(Cluster_sim.evaluation_data_spec_directory, emap_template_folder)\n",
    "if not os.path.exists(Cluster_sim.e_map_path):\n",
    "    os.makedirs(Cluster_sim.e_map_path)\n",
    "    \n",
    "for sim in Cluster_sim.cg_sim_list:\n",
    "    sim.gen_pair_dist_ts(Cluster_sim.descriptor_selection, sample_frames = len(sim.universe.trajectory))\n",
    "    #sim.save_evaluation_data(Cluster_sim.evaluation_data_spec_directory + sim.cluster_folder)\n",
    "\n",
    "Cluster_sim.high_d_data_concat_cg, Cluster_sim.frame_dict_concat_cg = Cluster_sim.concatenate_high_d_data(Cluster_sim.cg_sim_list)\n",
    "#high_d_data_concat_norm_cg = Cluster_sim.norm_high_d_data(high_d_data_concat_cg)[0]\n",
    "#Cluster_sim.save_evaluation_data(Cluster_sim, Cluster_sim.evaluation_data_spec_directory)\n",
    "\n",
    "#print(Cluster_sim.evaluation_data_spec_directory)"
   ]
  },
  {
   "cell_type": "code",
   "execution_count": null,
   "id": "b51c8a04",
   "metadata": {},
   "outputs": [],
   "source": [
    "def_parameters = em.Parameters()\n",
    "print(\"default parameters:\")\n",
    "print(\"center_cost_scale: \", def_parameters.center_cost_scale)\n",
    "print(\"auto_cost_scale: \", def_parameters.auto_cost_scale)\n",
    "print(\"distance_cost_scale: \", def_parameters.distance_cost_scale)\n",
    "print(\"l2_reg_constant: \", def_parameters.l2_reg_constant)\n",
    "print(\"learning_rate: \", def_parameters.learning_rate)"
   ]
  },
  {
   "cell_type": "code",
   "execution_count": null,
   "id": "78d9f9d3",
   "metadata": {},
   "outputs": [],
   "source": [
    "e2e_dist_ts_concat_cg = []\n",
    "\n",
    "for sim in Cluster_sim.cg_sim_list:\n",
    "    e2e_dist_ts_concat_cg += sim.gen_end2end_dist_ts()"
   ]
  },
  {
   "cell_type": "code",
   "execution_count": null,
   "id": "0e07bced",
   "metadata": {
    "scrolled": false
   },
   "outputs": [],
   "source": [
    "#initializing encodermap\n",
    "high_d_data_em = Cluster_sim.high_d_data_concat\n",
    "sig_h = 45            \n",
    "a_h = 20\n",
    "b_h = a_h\n",
    "a_l = math.ceil(a_h*2/len(high_d_data_em[0]))\n",
    "b_l = b_h\n",
    "parameters = em.Parameters()\n",
    "parameters.main_path = Cluster_sim.e_map_path\n",
    "parameters.n_steps = 5000\n",
    "#parameters.n_neurons = [2048,2048,2048,2]\n",
    "#parameters. activation_functions = ['', 'tanh', 'tanh', 'tanh', '']\n",
    "parameters.dist_sig_parameters = (sig_h, a_h, b_h, 1, a_l, b_l)\n",
    "parameters.periodicity = float(\"inf\")\n",
    "parameters.center_cost_scale = 0.03\n",
    "parameters.auto_cost_scale = 24.#50.\n",
    "parameters.l2_reg_constant = 0.039\n",
    "parameters.learning_rate = 0.000023\n",
    "parameters.distance_cost_scale = 27.\n",
    "parameters.summary_step = max(1, parameters.n_steps/100)\n",
    "parameters.checkpoint_step = 20\n",
    "\n",
    "print(parameters.main_path)\n",
    "\n",
    "\n",
    "#Cluster_sim.save_evaluation_data(Cluster_sim, parameters.main_path + \"/evaluation_data/\")\n",
    "    \n",
    "\n",
    "        \n",
    "# if your data set is large you should not try to calculate \n",
    "# the pairwise distance histogram with the complete data. \n",
    "em.plot.distance_histogram(high_d_data_em[::100],\n",
    "                           parameters.periodicity, \n",
    "                           parameters.dist_sig_parameters)"
   ]
  },
  {
   "cell_type": "code",
   "execution_count": null,
   "id": "26cc5559",
   "metadata": {
    "scrolled": false
   },
   "outputs": [],
   "source": [
    "#training emap\n",
    "Cluster_sim.e_map = em.EncoderMap(parameters, train_data = high_d_data_em)\n",
    "Cluster_sim.e_map.train()"
   ]
  },
  {
   "cell_type": "code",
   "execution_count": null,
   "id": "5c4b5577",
   "metadata": {},
   "outputs": [],
   "source": [
    "#opening tensorboard\n",
    "%cd $parameters.main_path\n",
    "process = subprocess.Popen([\"tensorboard\", \"--logdir\", \".\", \"--port\", \"6014\"])"
   ]
  },
  {
   "cell_type": "code",
   "execution_count": null,
   "id": "f2d19a45",
   "metadata": {},
   "outputs": [],
   "source": [
    "#closing tensorboard\n",
    "process.terminate()"
   ]
  },
  {
   "cell_type": "markdown",
   "id": "1d9eb6d9",
   "metadata": {},
   "source": [
    "%pwd"
   ]
  },
  {
   "cell_type": "code",
   "execution_count": null,
   "id": "661d78c5",
   "metadata": {},
   "outputs": [],
   "source": [
    "#encoding high d data\n",
    "projection_total = Cluster_sim.e_map.encode(high_d_data_em)"
   ]
  },
  {
   "cell_type": "code",
   "execution_count": null,
   "id": "c6b50f1b",
   "metadata": {},
   "outputs": [],
   "source": [
    "#e2e dist map\n",
    "%matplotlib notebook\n",
    "\n",
    "fig, ax = plt.subplots(facecolor='white')\n",
    "\n",
    "sc = ax.scatter(projection_total[:, 0], projection_total[:, 1], alpha=0.4, s = 6, marker = \".\", c = e2e_dist_ts_concat_cg, cmap = \"jet\", zorder = 1, label = \"CG_sim\")\n",
    "\n",
    "plt.legend()\n",
    "plt.colorbar(sc, label=\"end-to-end distance Â\")\n",
    "\n",
    "\n",
    "plt.axis(\"off\") \n",
    "plt.tight_layout()\n",
    "plt.show()\n"
   ]
  },
  {
   "cell_type": "code",
   "execution_count": null,
   "id": "701a6915",
   "metadata": {},
   "outputs": [],
   "source": [
    "#free energy map\n",
    "fig = plt.figure(figsize=(4.5, 4.5), dpi=200, facecolor='white')\n",
    "ax = fig.add_subplot(1, 1, 1)\n",
    "ax.set_facecolor(\"white\")\n",
    "ax.axis('off')\n",
    "\n",
    "mplt.plot_free_energy(np.vstack(projection_total)[:,0], np.vstack(projection_total)[:,1], ax=ax,\n",
    "                      cmap='nipy_spectral', ncontours=100, nbins=200)\n",
    "#plt.savefig('savepath.png', bbox_inches=\"tight\")\n",
    "plt.show()"
   ]
  },
  {
   "cell_type": "code",
   "execution_count": null,
   "id": "4a1f31b0",
   "metadata": {
    "scrolled": true
   },
   "outputs": [],
   "source": [
    "vars(Cluster_sim)"
   ]
  },
  {
   "cell_type": "code",
   "execution_count": null,
   "id": "84d29c44",
   "metadata": {},
   "outputs": [],
   "source": [
    "#saving class state --> next load it for UA_evaluation\n",
    "obj_name = \"ASP10_neutral_1\" + \".pickle\"\n",
    "Cluster_sim.save_state(os.path.join(\"/home/nicolas.schneider/nicolas/master_thesis/serialized_objects/\", obj_name))"
   ]
  },
  {
   "cell_type": "code",
   "execution_count": null,
   "id": "9a93662f",
   "metadata": {},
   "outputs": [],
   "source": []
  }
 ],
 "metadata": {
  "kernelspec": {
   "display_name": "Python 3",
   "language": "python",
   "name": "python3"
  },
  "language_info": {
   "codemirror_mode": {
    "name": "ipython",
    "version": 3
   },
   "file_extension": ".py",
   "mimetype": "text/x-python",
   "name": "python",
   "nbconvert_exporter": "python",
   "pygments_lexer": "ipython3",
   "version": "3.7.12"
  }
 },
 "nbformat": 4,
 "nbformat_minor": 5
}
